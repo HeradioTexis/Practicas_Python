{
 "cells": [
  {
   "cell_type": "markdown",
   "id": "07f44163-bbda-4e71-9a9e-dcf38beadf50",
   "metadata": {},
   "source": [
    "# Codido del Ahorcado"
   ]
  },
  {
   "cell_type": "code",
   "execution_count": 14,
   "id": "b84866ff-73b3-49f0-91db-35335ac9ec81",
   "metadata": {},
   "outputs": [
    {
     "name": "stdout",
     "output_type": "stream",
     "text": [
      "\n",
      "Current word:  _ _ _\n"
     ]
    },
    {
     "name": "stdin",
     "output_type": "stream",
     "text": [
      "Guess a letter:  e\n"
     ]
    },
    {
     "name": "stdout",
     "output_type": "stream",
     "text": [
      "\n",
      "You lost a life, get gud\n",
      "\n",
      "Used letters:  {'E'}\n",
      "Word letters:  E\n",
      "You have  4 lives.\n",
      "\n",
      "Current word:  _ _ _\n"
     ]
    },
    {
     "name": "stdin",
     "output_type": "stream",
     "text": [
      "Guess a letter:  a\n"
     ]
    },
    {
     "name": "stdout",
     "output_type": "stream",
     "text": [
      "\n",
      "You lost a life, get gud\n",
      "\n",
      "Used letters:  {'E', 'A'}\n",
      "Word letters:  A\n",
      "You have  3 lives.\n",
      "\n",
      "Current word:  _ _ _\n"
     ]
    },
    {
     "name": "stdin",
     "output_type": "stream",
     "text": [
      "Guess a letter:  y\n"
     ]
    },
    {
     "name": "stdout",
     "output_type": "stream",
     "text": [
      "\n",
      "You lost a life, get gud\n",
      "\n",
      "Used letters:  {'E', 'A', 'Y'}\n",
      "Word letters:  Y\n",
      "You have  2 lives.\n",
      "\n",
      "Current word:  _ _ _\n"
     ]
    },
    {
     "name": "stdin",
     "output_type": "stream",
     "text": [
      "Guess a letter:  o\n"
     ]
    },
    {
     "name": "stdout",
     "output_type": "stream",
     "text": [
      "\n",
      "Used letters:  {'O', 'E', 'A', 'Y'}\n",
      "Word letters:  O\n",
      "You have  2 lives.\n",
      "\n",
      "Current word:  _ O _\n"
     ]
    },
    {
     "name": "stdin",
     "output_type": "stream",
     "text": [
      "Guess a letter:  h\n"
     ]
    },
    {
     "name": "stdout",
     "output_type": "stream",
     "text": [
      "\n",
      "You lost a life, get gud\n",
      "\n",
      "Used letters:  {'H', 'A', 'O', 'E', 'Y'}\n",
      "Word letters:  H\n",
      "You have  1 lives.\n",
      "\n",
      "Current word:  _ O _\n"
     ]
    },
    {
     "name": "stdin",
     "output_type": "stream",
     "text": [
      "Guess a letter:  v\n"
     ]
    },
    {
     "name": "stdout",
     "output_type": "stream",
     "text": [
      "\n",
      "You lost a life, get gud\n",
      "\n",
      "Used letters:  {'H', 'A', 'O', 'E', 'Y', 'V'}\n",
      "Word letters:  V\n",
      "You have  0 lives.\n",
      "\n",
      "The word was: BOW you are a loser.\n"
     ]
    }
   ],
   "source": [
    "import random\n",
    "import string\n",
    "\n",
    "from words import words\n",
    "\n",
    "def get_valid_word(words):\n",
    "  word = random.choice(words)\n",
    "  return word.upper()\n",
    "    \n",
    "def hangman():\n",
    "  word = get_valid_word(words)\n",
    "  # print('Disclaimer: This code does not appear in the game: ', word)\n",
    "  # print('Your letter is:', '_ ' * len(word))\n",
    "  word_letters = set(word)\n",
    "  alphabet = set(string.ascii_uppercase)\n",
    "  used_letters = set()\n",
    "  lives = 5\n",
    "\n",
    "  while len(word_letters) > 0 and lives > 0:\n",
    "\n",
    "    # User's feedback\n",
    "    word_list = [letter if letter in used_letters else \"_\" for letter in word]\n",
    "    print('\\nCurrent word: ',' '.join(word_list))\n",
    "\n",
    "    user_letter = input(\"Guess a letter: \").upper()\n",
    "    if user_letter in alphabet - used_letters:\n",
    "      used_letters.add(user_letter)\n",
    "      if user_letter in word_letters:\n",
    "        word_letters.remove(user_letter)\n",
    "      else:\n",
    "        lives = lives - 1\n",
    "        print(\"\\nYou lost a life, get gud\")\n",
    "\n",
    "    elif user_letter in used_letters:\n",
    "      print(\"\\nThe letter have been used, Please try again.\")\n",
    "\n",
    "    else:\n",
    "      print(\"\\nInvalid character.\")\n",
    "\n",
    "    word_list = [letter if letter in used_letters else '_ ' for letter in word]\n",
    "      \n",
    "    print()\n",
    "    print(\"Used letters: \",used_letters)\n",
    "    print(\"Word letters: \", user_letter)\n",
    "    print(\"You have \", lives, \"lives.\")\n",
    "\n",
    "  if(lives == 0):\n",
    "    print(\"\\nThe word was:\", word, \"you are a loser.\")\n",
    "  else:\n",
    "    print(\"\\nYou won, the guesses were correct.\")\n",
    "    print(\"The word was: \",' '.join(word_list))\n",
    "\n",
    "hangman()"
   ]
  }
 ],
 "metadata": {
  "kernelspec": {
   "display_name": "Python 3 (ipykernel)",
   "language": "python",
   "name": "python3"
  },
  "language_info": {
   "codemirror_mode": {
    "name": "ipython",
    "version": 3
   },
   "file_extension": ".py",
   "mimetype": "text/x-python",
   "name": "python",
   "nbconvert_exporter": "python",
   "pygments_lexer": "ipython3",
   "version": "3.12.2"
  }
 },
 "nbformat": 4,
 "nbformat_minor": 5
}
