{
 "cells": [
  {
   "cell_type": "markdown",
   "id": "9f2d7f51-8aa7-45a6-af0b-24d99d814f14",
   "metadata": {},
   "source": [
    "## Tuplas en python 🐍"
   ]
  },
  {
   "cell_type": "markdown",
   "id": "4ee36fc7-b774-4e78-8997-e92b202fdfd6",
   "metadata": {},
   "source": [
    "Las tuplas en Python son estructuras de datos similares a las listas, pero con la principal\n",
    "diferencia de que son inmutables, es decir, una vez creadas no se pueden modificar. \n",
    "Se definen utilizando paréntesis ( ) en lugar de corchetes [ ]."
   ]
  },
  {
   "cell_type": "markdown",
   "id": "52009b1d-5787-4af1-9466-71bd027b7acd",
   "metadata": {},
   "source": [
    "## Definicion"
   ]
  },
  {
   "cell_type": "code",
   "execution_count": 4,
   "id": "caf10d69-4665-4f30-bf04-99ae3a8d66b0",
   "metadata": {},
   "outputs": [
    {
     "name": "stdout",
     "output_type": "stream",
     "text": [
      "(1, 2, 3, 4, 5)\n"
     ]
    }
   ],
   "source": [
    "mi_tupla = (1, 2, 3, 4, 5)\n",
    "print(mi_tupla)\n"
   ]
  },
  {
   "cell_type": "markdown",
   "id": "516bcba9-f2df-4de0-87e7-6db022740f57",
   "metadata": {},
   "source": [
    "#### Operaciones comunes con tuplas"
   ]
  },
  {
   "cell_type": "markdown",
   "id": "70df81df-4018-4da6-925e-0100dd21b313",
   "metadata": {},
   "source": [
    "### Indexación: Acceder a elementos utilizando índices"
   ]
  },
  {
   "cell_type": "code",
   "execution_count": 5,
   "id": "f6efe15f-a8f6-425a-885e-f12c37f882e5",
   "metadata": {},
   "outputs": [
    {
     "name": "stdout",
     "output_type": "stream",
     "text": [
      "1\n"
     ]
    }
   ],
   "source": [
    "mi_tupla = (1, 2, 3) # Tupla con elementos\n",
    "print(mi_tupla[0])  # Salida: 1"
   ]
  },
  {
   "cell_type": "markdown",
   "id": "e9ac2853-cc76-46c4-a08c-c9dacf23b37a",
   "metadata": {},
   "source": [
    "#### Slicing: Obtener subconjuntos de elementos"
   ]
  },
  {
   "cell_type": "code",
   "execution_count": 7,
   "id": "af0b1556-9d54-4feb-9951-90bd613e4eef",
   "metadata": {},
   "outputs": [
    {
     "name": "stdout",
     "output_type": "stream",
     "text": [
      "(2, 3)\n"
     ]
    }
   ],
   "source": [
    "mi_tupla = (1, 2, 3) # Tupla con elementos\n",
    "print(mi_tupla[1:3])  # Salida: (2, 3)\n"
   ]
  },
  {
   "cell_type": "markdown",
   "id": "bdd4674d-a4f0-4879-8909-4660826645f0",
   "metadata": {},
   "source": [
    "#### Longitud: Obtener la longitud de la tupla."
   ]
  },
  {
   "cell_type": "code",
   "execution_count": 2,
   "id": "f2e418d0-3dbd-485f-8a8e-1a01d5600838",
   "metadata": {},
   "outputs": [
    {
     "name": "stdout",
     "output_type": "stream",
     "text": [
      "3\n"
     ]
    }
   ],
   "source": [
    "mi_tupla = (1, 2, 3) # Tupla con elementos\n",
    "print(len(mi_tupla))  # Salida: 3\n"
   ]
  },
  {
   "cell_type": "markdown",
   "id": "0e31feef-17ad-42f9-973a-0960d7e135a3",
   "metadata": {},
   "source": [
    "#### Concatenación: Unir dos tuplas."
   ]
  },
  {
   "cell_type": "code",
   "execution_count": 5,
   "id": "e69a18f5-e8ff-4b26-8330-d484e707bd2b",
   "metadata": {},
   "outputs": [
    {
     "name": "stdout",
     "output_type": "stream",
     "text": [
      "(1, 2, 3, 4, 5, 6)\n"
     ]
    }
   ],
   "source": [
    "mi_tupla = (1, 2, 3) # Tupla con elementos\n",
    "otra_tupla = (4, 5, 6)\n",
    "nueva_tupla = mi_tupla + otra_tupla\n",
    "print(nueva_tupla)"
   ]
  },
  {
   "cell_type": "markdown",
   "id": "477eac22-8531-4c06-bea2-f934bdb7e8d4",
   "metadata": {},
   "source": [
    "#### Repetición: Repetir una tupla cierto número de vece"
   ]
  },
  {
   "cell_type": "code",
   "execution_count": 6,
   "id": "54a8f70e-1c86-4dea-8b80-0bdcca4973e6",
   "metadata": {},
   "outputs": [
    {
     "name": "stdout",
     "output_type": "stream",
     "text": [
      "(1, 2, 3, 1, 2, 3)\n"
     ]
    }
   ],
   "source": [
    "mi_tupla = (1, 2, 3) # Tupla con elementos\n",
    "tupla_repetida = mi_tupla * 2\n",
    "print(tupla_repetida)"
   ]
  },
  {
   "cell_type": "markdown",
   "id": "0fb418a4-4ab4-4b5b-bd58-28c6d98c5696",
   "metadata": {},
   "source": [
    "## Diferencias respecto a las listas"
   ]
  },
  {
   "cell_type": "markdown",
   "id": "0c4fd200-57f1-4ab4-9445-d7aa69efcb53",
   "metadata": {},
   "source": [
    "--**Inmutabilidad:** Las tuplas son inmutables, lo que significa que no se pueden modificar después de su creación, mientras que las listas son mutables y se pueden modificar en cualquier momento.\n",
    "\n",
    "--**Sintaxis:** Las tuplas se definen utilizando paréntesis ( ), mientras que las listas se definen con corchetes [ ].\n",
    "\n",
    "\n",
    "--**Uso:** Las tuplas se utilizan principalmente para datos que no cambian a lo largo del tiempo, como coordenadas, mientras que las listas se utilizan para datos que pueden cambiar o mutar.\n",
    "\n",
    "\n",
    "--**Eficiencia:** Las tuplas son más eficientes en términos de memoria y rendimiento que las listas debido a su inmutabilidad.\n"
   ]
  },
  {
   "cell_type": "markdown",
   "id": "ac71cd7d-de7b-499b-a845-c90c764d180f",
   "metadata": {},
   "source": [
    "##### ejercicio para enontrar el elememnto minimo y maximo"
   ]
  },
  {
   "cell_type": "code",
   "execution_count": 7,
   "id": "d9a702cb-f3ae-42d5-aa8b-9f612a9d8094",
   "metadata": {},
   "outputs": [
    {
     "name": "stdout",
     "output_type": "stream",
     "text": [
      "El número máximo es: 20\n",
      "El número mínimo es: 3\n"
     ]
    }
   ],
   "source": [
    "mi_tupla = (10, 5, 15, 20, 3)\n",
    "maximo = max(mi_tupla)\n",
    "minimo = min(mi_tupla)\n",
    "print(\"El número máximo es:\", maximo)\n",
    "print(\"El número mínimo es:\", minimo)\n"
   ]
  },
  {
   "cell_type": "markdown",
   "id": "36a370f7-e263-4f97-a8f3-9e7e3f29c185",
   "metadata": {},
   "source": [
    "##### crear tupla de listas "
   ]
  },
  {
   "cell_type": "code",
   "execution_count": 8,
   "id": "1d2444ce-f119-4b2e-a32a-32097ee70fa5",
   "metadata": {},
   "outputs": [
    {
     "name": "stdout",
     "output_type": "stream",
     "text": [
      "La tupla de listas es: ([1, 2, 3], [4, 5, 6], [7, 8, 9])\n"
     ]
    }
   ],
   "source": [
    "lista1 = [1, 2, 3]\n",
    "lista2 = [4, 5, 6]\n",
    "lista3 = [7, 8, 9]\n",
    "tupla_de_listas = tuple([lista1, lista2, lista3])\n",
    "print(\"La tupla de listas es:\", tupla_de_listas)"
   ]
  },
  {
   "cell_type": "markdown",
   "id": "13ef8031-31c1-4276-9838-b8c300733c6d",
   "metadata": {},
   "source": [
    "## 2 ejercicos de Tuplas "
   ]
  },
  {
   "cell_type": "markdown",
   "id": "98337a18-bd5a-48cc-8920-3b1ecb5ecd01",
   "metadata": {},
   "source": [
    "**Intercambio de valores: Escribe un programa que intercambie los valores de dos variables utilizando tuplas.**"
   ]
  },
  {
   "cell_type": "code",
   "execution_count": 10,
   "id": "935d32dc-8441-48a7-aca8-5687410e5a2e",
   "metadata": {},
   "outputs": [
    {
     "name": "stdout",
     "output_type": "stream",
     "text": [
      "Valores originales:\n",
      "a = 5\n",
      "b = 10\n",
      "\n",
      "Valores intercambiados:\n",
      "a = 10\n",
      "b = 5\n"
     ]
    }
   ],
   "source": [
    "# Variables originales\n",
    "a = 5\n",
    "b = 10\n",
    "\n",
    "print(\"Valores originales:\")\n",
    "print(\"a =\", a)\n",
    "print(\"b =\", b)\n",
    "\n",
    "# Intercambio utilizando tuplas\n",
    "a, b = b, a\n",
    "\n",
    "print(\"\\nValores intercambiados:\")\n",
    "print(\"a =\", a)\n",
    "print(\"b =\", b)\n"
   ]
  },
  {
   "cell_type": "markdown",
   "id": "813e0316-be9d-4a56-910d-4ea38bfc7d3b",
   "metadata": {},
   "source": [
    " **Desempaquetado de tuplas: Escribe un programa que utilice el desempaquetado de tuplas para asignar valores a múltiples variables en una sola línea**"
   ]
  },
  {
   "cell_type": "code",
   "execution_count": 11,
   "id": "72cc2064-8859-4f2c-a8eb-be7458c9aa4a",
   "metadata": {},
   "outputs": [
    {
     "name": "stdout",
     "output_type": "stream",
     "text": [
      "Coordenadas:\n",
      "x = 3\n",
      "y = 7\n"
     ]
    }
   ],
   "source": [
    "# Tupla con valores de coordenadas\n",
    "coordenadas = (3, 7)\n",
    "\n",
    "# Desempaquetado de la tupla en variables separadas\n",
    "x, y = coordenadas\n",
    "\n",
    "print(\"Coordenadas:\")\n",
    "print(\"x =\", x)\n",
    "print(\"y =\", y)\n"
   ]
  },
  {
   "cell_type": "markdown",
   "id": "07b48d94-86fb-4802-ab64-f3aec34657af",
   "metadata": {},
   "source": [
    "#### Recuerda las tuplas en Python son inmutables, lo que significa que una vez creadas, no se pueden modificar. Esto significa que no se pueden agregar, eliminar o modificar elementos individualmente dentro de una tupla después de su creación. Sin embargo, puedes crear nuevas tuplas combinando o modificando tuplas existentes."
   ]
  },
  {
   "cell_type": "code",
   "execution_count": 13,
   "id": "32339562-f1c6-423d-a401-1a60ee0161f5",
   "metadata": {},
   "outputs": [
    {
     "ename": "TypeError",
     "evalue": "'tuple' object does not support item assignment",
     "output_type": "error",
     "traceback": [
      "\u001b[1;31m---------------------------------------------------------------------------\u001b[0m",
      "\u001b[1;31mTypeError\u001b[0m                                 Traceback (most recent call last)",
      "Cell \u001b[1;32mIn[13], line 2\u001b[0m\n\u001b[0;32m      1\u001b[0m mi_tupla \u001b[38;5;241m=\u001b[39m (\u001b[38;5;241m1\u001b[39m, \u001b[38;5;241m2\u001b[39m, \u001b[38;5;241m3\u001b[39m)\n\u001b[1;32m----> 2\u001b[0m \u001b[43mmi_tupla\u001b[49m\u001b[43m[\u001b[49m\u001b[38;5;241;43m0\u001b[39;49m\u001b[43m]\u001b[49m \u001b[38;5;241m=\u001b[39m \u001b[38;5;241m4\u001b[39m  \u001b[38;5;66;03m# Esto generará un error, ya que intentamos modificar un elemento de la tupla\u001b[39;00m\n\u001b[0;32m      3\u001b[0m \u001b[38;5;28mprint\u001b[39m(mi_tupla)  \u001b[38;5;66;03m# Salida: (1, 2, 3, 4, 5)\u001b[39;00m\n",
      "\u001b[1;31mTypeError\u001b[0m: 'tuple' object does not support item assignment"
     ]
    }
   ],
   "source": [
    "mi_tupla = (1, 2, 3)\n",
    "mi_tupla[0] = 4  # Esto generará un error, ya que intentamos modificar un elemento de la tupla\n",
    "print(mi_tupla)  # Salida: (1, 2, 3, 4, 5)\n"
   ]
  },
  {
   "cell_type": "code",
   "execution_count": null,
   "id": "8bb47e43-0bd6-4293-b184-809380ec5e04",
   "metadata": {},
   "outputs": [],
   "source": []
  }
 ],
 "metadata": {
  "kernelspec": {
   "display_name": "Python 3 (ipykernel)",
   "language": "python",
   "name": "python3"
  },
  "language_info": {
   "codemirror_mode": {
    "name": "ipython",
    "version": 3
   },
   "file_extension": ".py",
   "mimetype": "text/x-python",
   "name": "python",
   "nbconvert_exporter": "python",
   "pygments_lexer": "ipython3",
   "version": "3.12.2"
  }
 },
 "nbformat": 4,
 "nbformat_minor": 5
}
